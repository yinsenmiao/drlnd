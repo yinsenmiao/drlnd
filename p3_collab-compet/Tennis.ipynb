{
 "cells": [
  {
   "cell_type": "markdown",
   "metadata": {},
   "source": [
    "# Collaboration and Competition\n",
    "\n",
    "---\n",
    "\n",
    "In this notebook, you will learn how to use the Unity ML-Agents environment for the third project of the [Deep Reinforcement Learning Nanodegree](https://www.udacity.com/course/deep-reinforcement-learning-nanodegree--nd893) program.\n",
    "\n",
    "### 1. Start the Environment\n",
    "\n",
    "We begin by importing the necessary packages.  If the code cell below returns an error, please revisit the project instructions to double-check that you have installed [Unity ML-Agents](https://github.com/Unity-Technologies/ml-agents/blob/master/docs/Installation.md) and [NumPy](http://www.numpy.org/)."
   ]
  },
  {
   "cell_type": "code",
   "execution_count": 1,
   "metadata": {},
   "outputs": [],
   "source": [
    "from unityagents import UnityEnvironment\n",
    "import numpy as np"
   ]
  },
  {
   "cell_type": "markdown",
   "metadata": {},
   "source": [
    "Next, we will start the environment!  **_Before running the code cell below_**, change the `file_name` parameter to match the location of the Unity environment that you downloaded.\n",
    "\n",
    "- **Mac**: `\"path/to/Tennis.app\"`\n",
    "- **Windows** (x86): `\"path/to/Tennis_Windows_x86/Tennis.exe\"`\n",
    "- **Windows** (x86_64): `\"path/to/Tennis_Windows_x86_64/Tennis.exe\"`\n",
    "- **Linux** (x86): `\"path/to/Tennis_Linux/Tennis.x86\"`\n",
    "- **Linux** (x86_64): `\"path/to/Tennis_Linux/Tennis.x86_64\"`\n",
    "- **Linux** (x86, headless): `\"path/to/Tennis_Linux_NoVis/Tennis.x86\"`\n",
    "- **Linux** (x86_64, headless): `\"path/to/Tennis_Linux_NoVis/Tennis.x86_64\"`\n",
    "\n",
    "For instance, if you are using a Mac, then you downloaded `Tennis.app`.  If this file is in the same folder as the notebook, then the line below should appear as follows:\n",
    "```\n",
    "env = UnityEnvironment(file_name=\"Tennis.app\")\n",
    "```"
   ]
  },
  {
   "cell_type": "code",
   "execution_count": 2,
   "metadata": {},
   "outputs": [
    {
     "name": "stderr",
     "output_type": "stream",
     "text": [
      "INFO:unityagents:\n",
      "'Academy' started successfully!\n",
      "Unity Academy name: Academy\n",
      "        Number of Brains: 1\n",
      "        Number of External Brains : 1\n",
      "        Lesson number : 0\n",
      "        Reset Parameters :\n",
      "\t\t\n",
      "Unity brain name: TennisBrain\n",
      "        Number of Visual Observations (per agent): 0\n",
      "        Vector Observation space type: continuous\n",
      "        Vector Observation space size (per agent): 8\n",
      "        Number of stacked Vector Observation: 3\n",
      "        Vector Action space type: continuous\n",
      "        Vector Action space size (per agent): 2\n",
      "        Vector Action descriptions: , \n"
     ]
    }
   ],
   "source": [
    "env = UnityEnvironment(file_name=\"Tennis_Windows_x86_64/Tennis.exe\")"
   ]
  },
  {
   "cell_type": "markdown",
   "metadata": {},
   "source": [
    "Environments contain **_brains_** which are responsible for deciding the actions of their associated agents. Here we check for the first brain available, and set it as the default brain we will be controlling from Python."
   ]
  },
  {
   "cell_type": "code",
   "execution_count": 3,
   "metadata": {},
   "outputs": [],
   "source": [
    "# get the default brain\n",
    "brain_name = env.brain_names[0]\n",
    "brain = env.brains[brain_name]"
   ]
  },
  {
   "cell_type": "markdown",
   "metadata": {},
   "source": [
    "### 2. Examine the State and Action Spaces\n",
    "\n",
    "In this environment, two agents control rackets to bounce a ball over a net. If an agent hits the ball over the net, it receives a reward of +0.1.  If an agent lets a ball hit the ground or hits the ball out of bounds, it receives a reward of -0.01.  Thus, the goal of each agent is to keep the ball in play.\n",
    "\n",
    "The observation space consists of 8 variables corresponding to the position and velocity of the ball and racket. Two continuous actions are available, corresponding to movement toward (or away from) the net, and jumping. \n",
    "\n",
    "Run the code cell below to print some information about the environment."
   ]
  },
  {
   "cell_type": "code",
   "execution_count": 4,
   "metadata": {},
   "outputs": [
    {
     "name": "stdout",
     "output_type": "stream",
     "text": [
      "Number of agents: 2\n",
      "Size of each action: 2\n",
      "There are 2 agents. Each observes a state with length: 24\n",
      "The state for the first agent looks like: [ 0.          0.          0.          0.          0.          0.\n",
      "  0.          0.          0.          0.          0.          0.\n",
      "  0.          0.          0.          0.         -6.65278625 -1.5\n",
      " -0.          0.          6.83172083  6.         -0.          0.        ]\n"
     ]
    }
   ],
   "source": [
    "# reset the environment\n",
    "env_info = env.reset(train_mode=True)[brain_name]\n",
    "\n",
    "# number of agents \n",
    "num_agents = len(env_info.agents)\n",
    "print('Number of agents:', num_agents)\n",
    "\n",
    "# size of each action\n",
    "action_size = brain.vector_action_space_size\n",
    "print('Size of each action:', action_size)\n",
    "\n",
    "# examine the state space \n",
    "states = env_info.vector_observations\n",
    "state_size = states.shape[1]\n",
    "print('There are {} agents. Each observes a state with length: {}'.format(states.shape[0], state_size))\n",
    "print('The state for the first agent looks like:', states[0])"
   ]
  },
  {
   "cell_type": "markdown",
   "metadata": {},
   "source": [
    "### 3. Take Random Actions in the Environment\n",
    "\n",
    "In the next code cell, you will learn how to use the Python API to control the agents and receive feedback from the environment.\n",
    "\n",
    "Once this cell is executed, you will watch the agents' performance, if they select actions at random with each time step.  A window should pop up that allows you to observe the agents.\n",
    "\n",
    "Of course, as part of the project, you'll have to change the code so that the agents are able to use their experiences to gradually choose better actions when interacting with the environment!"
   ]
  },
  {
   "cell_type": "code",
   "execution_count": 5,
   "metadata": {},
   "outputs": [],
   "source": [
    "# for i in range(1, 6):                                      # play game for 5 episodes\n",
    "#     env_info = env.reset(train_mode=False)[brain_name]     # reset the environment    \n",
    "#     states = env_info.vector_observations                  # get the current state (for each agent)\n",
    "#     scores = np.zeros(num_agents)                          # initialize the score (for each agent)\n",
    "#     while True:\n",
    "#         actions = np.random.randn(num_agents, action_size) # select an action (for each agent)\n",
    "#         actions = np.clip(actions, -1, 1)                  # all actions between -1 and 1\n",
    "#         env_info = env.step(actions)[brain_name]           # send all actions to tne environment\n",
    "#         next_states = env_info.vector_observations         # get next state (for each agent)\n",
    "#         rewards = env_info.rewards                         # get reward (for each agent)\n",
    "#         dones = env_info.local_done                        # see if episode finished\n",
    "#         scores += env_info.rewards                         # update the score (for each agent)\n",
    "#         states = next_states                               # roll over states to next time step\n",
    "#         if np.any(dones):                                  # exit loop if episode finished\n",
    "#             break\n",
    "#     print('Score (max over agents) from episode {}: {}'.format(i, np.max(scores)))"
   ]
  },
  {
   "cell_type": "markdown",
   "metadata": {},
   "source": [
    "When finished, you can close the environment."
   ]
  },
  {
   "cell_type": "code",
   "execution_count": 6,
   "metadata": {},
   "outputs": [],
   "source": [
    "# env.close()"
   ]
  },
  {
   "cell_type": "markdown",
   "metadata": {},
   "source": [
    "### 4. It's Your Turn!\n",
    "\n",
    "Now it's your turn to train your own agent to solve the environment!  When training the environment, set `train_mode=True`, so that the line for resetting the environment looks like the following:\n",
    "```python\n",
    "env_info = env.reset(train_mode=True)[brain_name]\n",
    "```"
   ]
  },
  {
   "cell_type": "code",
   "execution_count": 5,
   "metadata": {},
   "outputs": [],
   "source": [
    "import gym\n",
    "import random\n",
    "import torch\n",
    "from ddpg_agent import Agent\n",
    "import numpy as np\n",
    "from collections import deque\n",
    "import matplotlib.pyplot as plt\n",
    "%matplotlib inline"
   ]
  },
  {
   "cell_type": "code",
   "execution_count": 6,
   "metadata": {},
   "outputs": [
    {
     "name": "stdout",
     "output_type": "stream",
     "text": [
      "Pre-trained Actor network weight agent0_actor loaded!\n",
      "Pre-trained Critic network weight agent0_critic loaded!\n",
      "Pre-trained Actor network weight agent1_actor loaded!\n",
      "Pre-trained Critic network weight agent1_critic loaded!\n"
     ]
    }
   ],
   "source": [
    "agents = {\n",
    "    \"agent0\": Agent(state_size=state_size, action_size=action_size, random_seed=2, \n",
    "                    actor_net_path = \"agent0_actor\", critic_net_path=\"agent0_critic\"),\n",
    "    \"agent1\": Agent(state_size=state_size, action_size=action_size, random_seed=2, \n",
    "                    actor_net_path=\"agent1_actor\", critic_net_path=\"agent1_critic\"),\n",
    "}"
   ]
  },
  {
   "cell_type": "code",
   "execution_count": 9,
   "metadata": {},
   "outputs": [],
   "source": [
    "def mutiddpg(n_episodes=20000, print_every=100, save_every=100):\n",
    "    scores_deque = deque(maxlen=print_every)\n",
    "    scores = []\n",
    "    scores_std = []\n",
    "    scores_mean = []\n",
    "    for i_episode in range(1, n_episodes+1):\n",
    "        env_info = env.reset(train_mode=True)[brain_name]     # reset the environment    \n",
    "        states = env_info.vector_observations                  # get the current state (for each agent)\n",
    "        for agent_name, agent in agents.items():\n",
    "            agent.reset()\n",
    "        score = np.zeros(num_agents)\n",
    "        \n",
    "        while True:\n",
    "            action_list = []\n",
    "            for i, (agent_name, agent) in enumerate(agents.items()):\n",
    "                _action = agent.act(np.expand_dims(states[i], axis=0))\n",
    "                action_list.append(_action)\n",
    "            actions = np.vstack(action_list)\n",
    "            env_info = env.step(actions)[brain_name]           # send all actions to tne environment\n",
    "            next_states = env_info.vector_observations         # get next state (for each agent)\n",
    "            rewards = env_info.rewards                         # get reward (for each agent)\n",
    "            dones = env_info.local_done                        # see if episode finished\n",
    "            \n",
    "            for i, (agent_name, agent) in enumerate(agents.items()):\n",
    "                agent.step(states[i], actions[i], rewards[1], next_states[i], dones[i])\n",
    "            states = next_states\n",
    "            score += rewards                                   # update the score (for each agent)\n",
    "            if any(dones):\n",
    "                break \n",
    "        scores_deque.append(np.max(score))\n",
    "        scores.append(np.max(score))\n",
    "        scores_std.append(np.std(scores_deque))\n",
    "        scores_mean.append(np.mean(scores_deque))\n",
    "        print('\\rEpisode {}\\tMax Score: {:.10f}'.format(i_episode, np.max(scores_deque)), end=\"\")\n",
    "        \n",
    "        if i_episode % print_every == 0:\n",
    "            print('\\rEpisode {}\\tAverage Score: {:.10f}'.format(i_episode, np.mean(scores_deque)))\n",
    "        \n",
    "        if i_episode % save_every == 0:\n",
    "            for i, (agent_name, agent) in enumerate(agents.items()):\n",
    "                torch.save(agent.actor_local.state_dict(), 'agent%d_actor.pth' % i)\n",
    "                torch.save(agent.critic_local.state_dict(), 'agent%d_critic.pth' % i)\n",
    "        if np.mean(scores_deque) > 0.8:\n",
    "            break\n",
    "            \n",
    "    return scores, scores_std, scores_mean"
   ]
  },
  {
   "cell_type": "code",
   "execution_count": 10,
   "metadata": {
    "scrolled": false
   },
   "outputs": [
    {
     "name": "stdout",
     "output_type": "stream",
     "text": [
      "Episode 100\tAverage Score: 0.0000000000\n",
      "Episode 200\tAverage Score: 0.0000000000\n",
      "Episode 300\tAverage Score: 0.0000000000\n",
      "Episode 400\tAverage Score: 0.0000000000\n",
      "Episode 500\tAverage Score: 0.0000000000\n",
      "Episode 600\tAverage Score: 0.0000000000\n",
      "Episode 700\tAverage Score: 0.0020000000\n",
      "Episode 800\tAverage Score: 0.0000000000\n",
      "Episode 900\tAverage Score: 0.0000000000\n",
      "Episode 1000\tAverage Score: 0.0000000000\n",
      "Episode 1100\tAverage Score: 0.0000000000\n",
      "Episode 1200\tAverage Score: 0.0000000000\n",
      "Episode 1300\tAverage Score: 0.0000000000\n",
      "Episode 1400\tAverage Score: 0.0095000002\n",
      "Episode 1500\tAverage Score: 0.0116000002\n",
      "Episode 1600\tAverage Score: 0.0000000000\n",
      "Episode 1700\tAverage Score: 0.0000000000\n",
      "Episode 1800\tAverage Score: 0.0000000000\n",
      "Episode 1900\tAverage Score: 0.0000000000\n",
      "Episode 2000\tAverage Score: 0.0000000000\n",
      "Episode 2100\tAverage Score: 0.0000000000\n",
      "Episode 2200\tAverage Score: 0.0000000000\n",
      "Episode 2300\tAverage Score: 0.0036000001\n",
      "Episode 2400\tAverage Score: 0.0190000004\n",
      "Episode 2500\tAverage Score: 0.0027000001\n",
      "Episode 2600\tAverage Score: 0.0000000000\n",
      "Episode 2700\tAverage Score: 0.0000000000\n",
      "Episode 2800\tAverage Score: 0.0000000000\n",
      "Episode 2900\tAverage Score: 0.0000000000\n",
      "Episode 3000\tAverage Score: 0.0000000000\n",
      "Episode 3100\tAverage Score: 0.0000000000\n",
      "Episode 3200\tAverage Score: 0.0000000000\n",
      "Episode 3300\tAverage Score: 0.0000000000\n",
      "Episode 3400\tAverage Score: 0.0000000000\n",
      "Episode 3500\tAverage Score: 0.0000000000\n",
      "Episode 3600\tAverage Score: 0.0000000000\n",
      "Episode 3700\tAverage Score: 0.0000000000\n",
      "Episode 3800\tAverage Score: 0.0000000000\n",
      "Episode 3900\tAverage Score: 0.0000000000\n",
      "Episode 4000\tAverage Score: 0.0000000000\n",
      "Episode 4100\tAverage Score: 0.0019000000\n",
      "Episode 4200\tAverage Score: 0.0047000001\n",
      "Episode 4300\tAverage Score: 0.0009000000\n",
      "Episode 4400\tAverage Score: 0.0129000002\n",
      "Episode 4500\tAverage Score: 0.0426000007\n",
      "Episode 4600\tAverage Score: 0.0504000008\n",
      "Episode 4700\tAverage Score: 0.0491000008\n",
      "Episode 4800\tAverage Score: 0.0452000008\n",
      "Episode 4900\tAverage Score: 0.0481000008\n",
      "Episode 5000\tAverage Score: 0.0483000008\n",
      "Episode 5100\tAverage Score: 0.0486000008\n",
      "Episode 5200\tAverage Score: 0.0422000007\n",
      "Episode 5300\tAverage Score: 0.0459000008\n",
      "Episode 5400\tAverage Score: 0.0519000009\n",
      "Episode 5500\tAverage Score: 0.0494000008\n",
      "Episode 5600\tAverage Score: 0.0506000009\n",
      "Episode 5700\tAverage Score: 0.0446000008\n",
      "Episode 5800\tAverage Score: 0.0529000009\n",
      "Episode 5900\tAverage Score: 0.0441000008\n",
      "Episode 6000\tAverage Score: 0.0398000007\n",
      "Episode 6100\tAverage Score: 0.0457000008\n",
      "Episode 6200\tAverage Score: 0.0614000010\n",
      "Episode 6300\tAverage Score: 0.0459000007\n",
      "Episode 6400\tAverage Score: 0.0504000008\n",
      "Episode 6500\tAverage Score: 0.0535000009\n",
      "Episode 6600\tAverage Score: 0.0639000010\n",
      "Episode 6700\tAverage Score: 0.0502000009\n",
      "Episode 6800\tAverage Score: 0.0544000008\n",
      "Episode 6900\tAverage Score: 0.0456000007\n",
      "Episode 7000\tAverage Score: 0.0378000006\n",
      "Episode 7100\tAverage Score: 0.0357000005\n",
      "Episode 7200\tAverage Score: 0.0489000007\n",
      "Episode 7300\tAverage Score: 0.0429000006\n",
      "Episode 7400\tAverage Score: 0.0484000007\n",
      "Episode 7500\tAverage Score: 0.0877000014\n",
      "Episode 7600\tAverage Score: 0.0972000015\n",
      "Episode 7700\tAverage Score: 0.0812000012\n",
      "Episode 7800\tAverage Score: 0.1131000017\n",
      "Episode 7900\tAverage Score: 0.1181000018\n",
      "Episode 8000\tAverage Score: 0.1003000016\n",
      "Episode 8100\tAverage Score: 0.1097000017\n",
      "Episode 8200\tAverage Score: 0.1173000018\n",
      "Episode 8300\tAverage Score: 0.1664000025\n",
      "Episode 8400\tAverage Score: 0.1810000028\n",
      "Episode 8500\tAverage Score: 0.1901000029\n",
      "Episode 8600\tAverage Score: 0.2615000040\n",
      "Episode 8700\tAverage Score: 0.1547000023\n",
      "Episode 8800\tAverage Score: 0.1348000020\n",
      "Episode 8900\tAverage Score: 0.1250000019\n",
      "Episode 9000\tAverage Score: 0.1290000019\n",
      "Episode 9100\tAverage Score: 0.1089000016\n",
      "Episode 9200\tAverage Score: 0.1080000016\n",
      "Episode 9300\tAverage Score: 0.1200000018\n",
      "Episode 9400\tAverage Score: 0.1290000019\n",
      "Episode 9500\tAverage Score: 0.2718000041\n",
      "Episode 9600\tAverage Score: 0.2699000040\n",
      "Episode 9700\tAverage Score: 0.2944000044\n",
      "Episode 9800\tAverage Score: 0.2550000038\n",
      "Episode 9900\tAverage Score: 0.3246000049\n",
      "Episode 10000\tAverage Score: 0.5521000083\n",
      "Episode 10100\tAverage Score: 0.4621000069\n",
      "Episode 10200\tAverage Score: 0.2781000042\n",
      "Episode 10300\tAverage Score: 0.3251000049\n",
      "Episode 10400\tAverage Score: 0.3768000056\n",
      "Episode 10500\tAverage Score: 0.6349000095\n",
      "Episode 10600\tAverage Score: 0.7478000112\n",
      "Episode 10700\tAverage Score: 0.7349000110\n",
      "Episode 10800\tAverage Score: 0.7390000110\n",
      "Episode 10900\tAverage Score: 0.6658000099\n",
      "Episode 10931\tMax Score: 2.6000000387"
     ]
    }
   ],
   "source": [
    "scores, scores_std, scores_mean = mutiddpg()"
   ]
  },
  {
   "cell_type": "code",
   "execution_count": 15,
   "metadata": {},
   "outputs": [],
   "source": [
    "def moving_average(a, n=3) :\n",
    "    ret = np.cumsum(a, dtype=float)\n",
    "    ret[n:] = ret[n:] - ret[:-n]\n",
    "    return ret[n - 1:] / n"
   ]
  },
  {
   "cell_type": "code",
   "execution_count": 26,
   "metadata": {
    "scrolled": true
   },
   "outputs": [
    {
     "data": {
      "image/png": "[encoded data removed]",
      "text/plain": [
       "<Figure size 432x288 with 1 Axes>"
      ]
     },
     "metadata": {
      "needs_background": "light"
     },
     "output_type": "display_data"
    }
   ],
   "source": [
    "start_epi = 4000\n",
    "plt.plot(np.arange(start_epi + 1, len(scores)+1), scores[start_epi:])\n",
    "plt.plot(np.arange(start_epi + 100, len(scores)+1), moving_average(scores[start_epi:], 100), label=\"SMA 100\")\n",
    "plt.ylabel('Score')\n",
    "plt.xlabel('Episode #')\n",
    "plt.legend(loc='best')\n",
    "plt.savefig('training_epi.png')\n",
    "plt.show()"
   ]
  },
  {
   "cell_type": "code",
   "execution_count": 7,
   "metadata": {},
   "outputs": [],
   "source": [
    "scores100 = []\n",
    "for i in range(1, 101):\n",
    "    env_info = env.reset(train_mode=True)[brain_name]\n",
    "    states = env_info.vector_observations\n",
    "    scores = np.zeros(num_agents)\n",
    "    while True:\n",
    "        action_list = []\n",
    "        for i, (agent_name, agent) in enumerate(agents.items()):\n",
    "            _action = agent.act(np.expand_dims(states[i], axis=0))\n",
    "            action_list.append(_action)\n",
    "        actions = np.vstack(action_list)\n",
    "        env_info = env.step(actions)[brain_name]\n",
    "        next_states = env_info.vector_observations\n",
    "        rewards = env_info.rewards\n",
    "        dones = env_info.local_done\n",
    "        scores += rewards\n",
    "        states = next_states\n",
    "        if np.any(dones):\n",
    "            break\n",
    "    scores100.append(scores)"
   ]
  },
  {
   "cell_type": "code",
   "execution_count": 10,
   "metadata": {},
   "outputs": [],
   "source": [
    "fig = plt.figure()\n",
    "plt.plot(np.arange(100), np.max(scores100, axis=1))\n",
    "plt.ylabel('Score')\n",
    "plt.xlabel('Episode #')\n",
    "plt.title('Maximum score of the two agent')\n",
    "plt.savefig('testing_epi.png')\n",
    "plt.close()"
   ]
  },
  {
   "cell_type": "code",
   "execution_count": 12,
   "metadata": {},
   "outputs": [
    {
     "name": "stdout",
     "output_type": "stream",
     "text": [
      "The maximum score after 100 episodes in the testing set is: 0.707300011162\n"
     ]
    }
   ],
   "source": [
    "print('The maximum score after 100 episodes in the testing set is:', np.mean(np.max(scores100, axis=1)))"
   ]
  }
 ],
 "metadata": {
  "kernelspec": {
   "display_name": "Python 3",
   "language": "python",
   "name": "python3"
  },
  "language_info": {
   "codemirror_mode": {
    "name": "ipython",
    "version": 3
   },
   "file_extension": ".py",
   "mimetype": "text/x-python",
   "name": "python",
   "nbconvert_exporter": "python",
   "pygments_lexer": "ipython3",
   "version": "3.6.10"
  }
 },
 "nbformat": 4,
 "nbformat_minor": 2
}
